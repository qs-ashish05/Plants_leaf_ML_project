{
 "cells": [
  {
   "cell_type": "code",
   "execution_count": 8,
   "metadata": {},
   "outputs": [],
   "source": [
    "from tensorflow import keras\n",
    "# model = keras.models.load_model('path/to/location')"
   ]
  },
  {
   "cell_type": "code",
   "execution_count": 11,
   "metadata": {},
   "outputs": [],
   "source": [
    "MODEL = keras.models.load_model(\"../model/1\")"
   ]
  },
  {
   "cell_type": "code",
   "execution_count": 13,
   "metadata": {},
   "outputs": [
    {
     "ename": "NameError",
     "evalue": "name 'image' is not defined",
     "output_type": "error",
     "traceback": [
      "\u001b[1;31m---------------------------------------------------------------------------\u001b[0m",
      "\u001b[1;31mNameError\u001b[0m                                 Traceback (most recent call last)",
      "\u001b[1;32me:\\FINAL_SEM_IV_PROJECTS\\Plants_leaf_ML_project\\Codes\\Training\\test.ipynb Cell 3'\u001b[0m in \u001b[0;36m<cell line: 1>\u001b[1;34m()\u001b[0m\n\u001b[1;32m----> <a href='vscode-notebook-cell:/e%3A/FINAL_SEM_IV_PROJECTS/Plants_leaf_ML_project/Codes/Training/test.ipynb#ch0000003?line=0'>1</a>\u001b[0m img_array \u001b[39m=\u001b[39m tf\u001b[39m.\u001b[39mkeras\u001b[39m.\u001b[39mpreprocessing\u001b[39m.\u001b[39mimage\u001b[39m.\u001b[39mimg_to_array(image[i]\u001b[39m.\u001b[39mnumpy())\n\u001b[0;32m      <a href='vscode-notebook-cell:/e%3A/FINAL_SEM_IV_PROJECTS/Plants_leaf_ML_project/Codes/Training/test.ipynb#ch0000003?line=1'>2</a>\u001b[0m img_array \u001b[39m=\u001b[39m tf\u001b[39m.\u001b[39mexpand_dims(img_array,\u001b[39m0\u001b[39m)\n",
      "\u001b[1;31mNameError\u001b[0m: name 'image' is not defined"
     ]
    }
   ],
   "source": [
    "img_array = tf.keras.preprocessing.image.img_to_array(image[i].numpy())\n",
    "img_array = tf.expand_dims(img_array,0)"
   ]
  },
  {
   "cell_type": "code",
   "execution_count": 14,
   "metadata": {},
   "outputs": [
    {
     "ename": "NameError",
     "evalue": "name 'test_ds' is not defined",
     "output_type": "error",
     "traceback": [
      "\u001b[1;31m---------------------------------------------------------------------------\u001b[0m",
      "\u001b[1;31mNameError\u001b[0m                                 Traceback (most recent call last)",
      "\u001b[1;32me:\\FINAL_SEM_IV_PROJECTS\\Plants_leaf_ML_project\\Codes\\Training\\test.ipynb Cell 4'\u001b[0m in \u001b[0;36m<cell line: 1>\u001b[1;34m()\u001b[0m\n\u001b[1;32m----> <a href='vscode-notebook-cell:/e%3A/FINAL_SEM_IV_PROJECTS/Plants_leaf_ML_project/Codes/Training/test.ipynb#ch0000002?line=0'>1</a>\u001b[0m \u001b[39mfor\u001b[39;00m image_batch, labels_batch \u001b[39min\u001b[39;00m test_ds\u001b[39m.\u001b[39mtake(\u001b[39m1\u001b[39m):\n\u001b[0;32m      <a href='vscode-notebook-cell:/e%3A/FINAL_SEM_IV_PROJECTS/Plants_leaf_ML_project/Codes/Training/test.ipynb#ch0000002?line=2'>3</a>\u001b[0m     first_image \u001b[39m=\u001b[39m image_batch[\u001b[39m0\u001b[39m]\u001b[39m.\u001b[39mnumpy()\u001b[39m.\u001b[39mastype(\u001b[39m'\u001b[39m\u001b[39muint8\u001b[39m\u001b[39m'\u001b[39m)\n\u001b[0;32m      <a href='vscode-notebook-cell:/e%3A/FINAL_SEM_IV_PROJECTS/Plants_leaf_ML_project/Codes/Training/test.ipynb#ch0000002?line=3'>4</a>\u001b[0m     first_label \u001b[39m=\u001b[39m labels_batch[\u001b[39m0\u001b[39m]\n",
      "\u001b[1;31mNameError\u001b[0m: name 'test_ds' is not defined"
     ]
    }
   ],
   "source": [
    "for image_batch, labels_batch in test_ds.take(1):\n",
    "    \n",
    "    first_image = image_batch[0].numpy().astype('uint8')\n",
    "    first_label = labels_batch[0]\n",
    "\n",
    "    print(\"First image to predict\")\n",
    "    plt.imshow(first_image)\n",
    "\n",
    "    # print(\"First image actual label:\",first_label.numpy())\n",
    "    print(\"First image actual label:\",class_names[first_label])\n",
    "\n",
    "    batch_prediction = model.predict(image_batch)     # at a time 32 images ko predict krega \n",
    "    print(\"Predicated_label : \",class_names[np.argmax(batch_prediction[0])])"
   ]
  }
 ],
 "metadata": {
  "interpreter": {
   "hash": "f10dc2975a572bf0abd61cd493ccedf87cbbd7061ceff995525ba4936b72d120"
  },
  "kernelspec": {
   "display_name": "Python 3.10.2 64-bit",
   "language": "python",
   "name": "python3"
  },
  "language_info": {
   "codemirror_mode": {
    "name": "ipython",
    "version": 3
   },
   "file_extension": ".py",
   "mimetype": "text/x-python",
   "name": "python",
   "nbconvert_exporter": "python",
   "pygments_lexer": "ipython3",
   "version": "3.10.2"
  },
  "orig_nbformat": 4
 },
 "nbformat": 4,
 "nbformat_minor": 2
}
